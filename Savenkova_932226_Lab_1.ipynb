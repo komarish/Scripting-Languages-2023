{
  "nbformat": 4,
  "nbformat_minor": 0,
  "metadata": {
    "colab": {
      "provenance": [],
      "toc_visible": true
    },
    "kernelspec": {
      "name": "python3",
      "display_name": "Python 3"
    },
    "language_info": {
      "name": "python"
    }
  },
  "cells": [
    {
      "cell_type": "markdown",
      "source": [
        "# Формулировка задания"
      ],
      "metadata": {
        "id": "lKDGIPYetvyM"
      }
    },
    {
      "cell_type": "markdown",
      "source": [
        "Используя Python и модуль requests и bs4 написать скрипт, извлекающий новости (отдельно заголовок, анотацию, авторов) из веб-страницы новостного агенства. Требуется написать такой скрипт, который будучи запущен на сутки автоматически выделит и скачает все статьи, которые будут опубликованы за этот период (т.е. новые) и будут содержать упоминания Республиканской и Демократической партий США (выбираете любую интересную тему). Новостной сайт должен быть уникален и не повторяться у других студентов (в группе)."
      ],
      "metadata": {
        "id": "YVTWV5imt1lU"
      }
    },
    {
      "cell_type": "code",
      "source": [
        "from bs4 import BeautifulSoup\n",
        "import\trequests\n",
        "import re\n",
        "import time"
      ],
      "metadata": {
        "id": "Rw8Lvp22yx1T"
      },
      "execution_count": null,
      "outputs": []
    },
    {
      "cell_type": "code",
      "source": [
        "url = 'https://24.kg'"
      ],
      "metadata": {
        "id": "L1Qxt_EMy2oj"
      },
      "execution_count": null,
      "outputs": []
    },
    {
      "cell_type": "code",
      "source": [
        "themes = ['Нарын','Бишкек','РФ','Эрдоган']"
      ],
      "metadata": {
        "id": "iGeMYeCt0GnM"
      },
      "execution_count": null,
      "outputs": []
    },
    {
      "cell_type": "code",
      "source": [
        "path = '/content/drive/MyDrive/STUDY/Скриптовые языки/articles/'"
      ],
      "metadata": {
        "id": "PQIKPPjC_vKB"
      },
      "execution_count": null,
      "outputs": []
    },
    {
      "cell_type": "code",
      "source": [
        "#получаем автора, заголовок и текст статьи по url\n",
        "def getArticle(url):\n",
        "  article = requests.get(url)\n",
        "  soup = BeautifulSoup(article.text, 'html.parser')\n",
        "  author = soup.find(\"span\", {\"itemprop\": \"author\"})\n",
        "  if author is not None: \n",
        "    author = author.find(\"span\", {\"itemprop\": \"name\"})\n",
        "    authorName = author.text\n",
        "  else: authorName = ''\n",
        "\n",
        "  title = soup.find(\"h1\", {\"class\": \"newsTitle\"})\n",
        "    \n",
        "  body = soup.find(\"div\", {\"itemprop\": \"articleBody\"}).find_all(\"p\")\n",
        "\n",
        "\n",
        "  articleText = ''\n",
        "  for data in body:\n",
        "    articleText += data.text\n",
        "\n",
        "  return {'url': url, 'author': authorName, 'title': title.text, 'text': articleText}"
      ],
      "metadata": {
        "id": "PsG3x7lNU1FV"
      },
      "execution_count": null,
      "outputs": []
    },
    {
      "cell_type": "code",
      "source": [
        "#проверка упоминания в статье\n",
        "def checkTheme(article, themes):\n",
        "  for t in themes:  \n",
        "    #index = article['title'].find(t)\n",
        "    m_t = re.search(t, article['title'], re.IGNORECASE)\n",
        "    m_b = re.search(t, article['text'], re.IGNORECASE)\n",
        "    if m_t is not None:\n",
        "      #print(m_t.group(0))\n",
        "      return True\n",
        "    elif m_b is not None:\n",
        "      #print(m_b.group(0))\n",
        "      return True\n",
        "  return False"
      ],
      "metadata": {
        "id": "yybZ0EVyiccA"
      },
      "execution_count": null,
      "outputs": []
    },
    {
      "cell_type": "code",
      "source": [
        "#сохраняет разметку\n",
        "def saveAsHtml(url, path, name):\n",
        "  page = requests.get(url)\n",
        "  with open(path + name + '.html', \"w\") as f:\n",
        "    f.write(page.text)"
      ],
      "metadata": {
        "id": "E8eUD5Ra8Mhi"
      },
      "execution_count": null,
      "outputs": []
    },
    {
      "cell_type": "code",
      "source": [
        "#пометка в бэклоге\n",
        "def writeToBacklog(article, path, name):\n",
        "\n",
        "  t = time.strftime(\"%D %H:%M:%S\", time.localtime(time.time() + 7*60*60))\n",
        "  with open(path + name, \"a\") as f:\n",
        "    f.write(str(t) + '\\n')\n",
        "    f.write(article['url'] + '\\n')\n",
        "    f.write(article['author'] + '\\n')\n",
        "    f.write(article['title'] + '\\n')\n",
        "    f.write(article['text'] + '\\n')\n",
        "    f.write('\\n')"
      ],
      "metadata": {
        "id": "oJeXV3f5jEna"
      },
      "execution_count": null,
      "outputs": []
    },
    {
      "cell_type": "code",
      "source": [
        "#считывание ссылок новостей с главной страницы\n",
        "def getNewsLinks(url):\n",
        "  site = requests.get(url)\n",
        "  soup = BeautifulSoup(site.text, 'html.parser')\n",
        "\n",
        "  news = soup.find(\"div\", {\"class\": \"lineNews\"}).find_all(\"div\", {\"class\": \"one\"})\n",
        "  newsLinks = []\n",
        "\n",
        "  for data in news:\n",
        "    a = data.find('a')\n",
        "    if a is not None:\n",
        "        newsLinks.append(url + a['href'])\n",
        "\n",
        "  return newsLinks"
      ],
      "metadata": {
        "id": "W3vtHNNI9E8B"
      },
      "execution_count": null,
      "outputs": []
    },
    {
      "cell_type": "code",
      "source": [
        "#выявление вновь появившихся новостей, которые нужно проверить на тему\n",
        "def getNewArticles(oldList, newList):\n",
        "  newArticles = []\n",
        "\n",
        "  for url in newList:\n",
        "    if not(url in oldList):\n",
        "      newArticles.append(url)\n",
        "\n",
        "  return newArticles\n"
      ],
      "metadata": {
        "id": "aUjrp1FtCDpA"
      },
      "execution_count": null,
      "outputs": []
    },
    {
      "cell_type": "code",
      "source": [
        "#новые статьи с заданной тематикой\n",
        "def getArticlesWithThemes(shouldFiltered, themes):\n",
        "  articlesWithThemes = []\n",
        "\n",
        "  for link in shouldFiltered:\n",
        "    article = getArticle(link)\n",
        "    if checkTheme(article, themes):\n",
        "      articlesWithThemes.append(article)\n",
        "\n",
        "  return articlesWithThemes"
      ],
      "metadata": {
        "id": "6HyxssYeDqZr"
      },
      "execution_count": null,
      "outputs": []
    },
    {
      "cell_type": "code",
      "source": [
        "max_time = int(60*60*6) # 60*60*3 секунды\n",
        "start_time = time.time()  # время начала работы\n",
        "\n",
        "filteredArticles = []\n",
        "newsLinks = getNewsLinks(url) #нужны новые\n",
        "\n",
        "while (time.time() - start_time) < max_time:\n",
        "    \n",
        "    #print(time.time())\n",
        "    print(time.strftime(\"%D %H:%M:%S\", time.localtime(time.time() + 7*60*60)))\n",
        "\n",
        "    newArticlesLinks = getNewsLinks(url)\n",
        "    shouldFiltered = getNewArticles(newsLinks, newArticlesLinks)\n",
        "    \n",
        "    if (len(shouldFiltered)):\n",
        "      articlesWithThemes = getArticlesWithThemes(shouldFiltered, themes)\n",
        "      for i in range(0, len(articlesWithThemes)):\n",
        "        saveAsHtml(articlesWithThemes[i]['url'], path, str(len(filteredArticles) + i))\n",
        "        writeToBacklog(articlesWithThemes[i], path, 'Backlog.docx')\n",
        "\n",
        "      filteredArticles.extend(articlesWithThemes)\n",
        "\n",
        "    newsLinks = newArticlesLinks\n",
        "\n",
        "    time.sleep(60*20) #60*20"
      ],
      "metadata": {
        "colab": {
          "base_uri": "https://localhost:8080/"
        },
        "id": "jUHS5uLpUimi",
        "outputId": "724be5c4-4934-4d38-f10b-6c0065f1ceb9"
      },
      "execution_count": null,
      "outputs": [
        {
          "output_type": "stream",
          "name": "stdout",
          "text": [
            "05/29/23 11:00:14\n",
            "05/29/23 11:20:16\n",
            "05/29/23 11:40:18\n",
            "05/29/23 12:00:24\n",
            "05/29/23 12:20:27\n",
            "05/29/23 12:40:36\n",
            "05/29/23 13:00:41\n",
            "05/29/23 13:20:47\n",
            "05/29/23 13:40:56\n",
            "05/29/23 14:01:02\n",
            "05/29/23 14:21:08\n",
            "05/29/23 14:41:09\n",
            "05/29/23 15:01:14\n",
            "05/29/23 15:21:18\n",
            "05/29/23 15:41:21\n",
            "05/29/23 16:01:25\n",
            "05/29/23 16:21:29\n",
            "05/29/23 16:41:32\n"
          ]
        }
      ]
    },
    {
      "cell_type": "code",
      "source": [
        "newArticlesLinks"
      ],
      "metadata": {
        "colab": {
          "base_uri": "https://localhost:8080/"
        },
        "id": "xy_LGJ0jC5Zz",
        "outputId": "4b26414e-5a11-4652-e744-1b383d1cc46b"
      },
      "execution_count": null,
      "outputs": [
        {
          "output_type": "execute_result",
          "data": {
            "text/plain": [
              "['https://24.kg/biznes_info/266712_uspevayte_uvas_tri_dnya_chtobyi_podklyuchit_yandeks_besplatno_na90dney/',\n",
              " 'https://24.kg/vlast/266709_deputata_ulana_primova_kritikuyut_kollegi_komitet_nevasha_sobstvennost/',\n",
              " 'https://24.kg/vlast/266705_eto_nezakonno_adahan_madumarov_obvinyaet_ulana_primova_vnarushenii_reglamenta_/',\n",
              " 'https://24.kg/vlast/266704_vbros_iprovokatsiya_damira_niyazalieva_otvetila_naobvineniya_vpodkupe/',\n",
              " 'https://24.kg/obschestvo/266707_feyerverk_vshkole_i_o_direktora_izavuch_uvolenyi/',\n",
              " 'https://24.kg/vlast/266701_den_eaes_sadyir_japarov_pozdravil_partnerov_posoyuzu/',\n",
              " 'https://24.kg/obschestvo/266700_ukaz_prezidenta_vignor_roditeli_uchenikov_shkolyi_38bishkeka_jaluyutsya_napoboryi/',\n",
              " 'https://24.kg/vlast/266697_vkyirgyizstane_prosyat_stroit_novyie_sportobyektyi_suchetom_potrebnostey_lovz/',\n",
              " 'https://24.kg/vlast/266698_vleylekskom_rayone_otkryili_pogranzastavyi_ipostyi/',\n",
              " 'https://24.kg/vlast/266692_vkyirgyizstane_predlagayut_otmenit_litsenzirovanie_detsadov_iattestatsiyu_pedagogov/',\n",
              " 'https://24.kg/obschestvo/266689_eto_bezobrazie_mat_salkyinay_alimbaevoy_obratilas_kprezidentu_iglave_gknb/',\n",
              " 'https://24.kg/vlast/266681_nalog_naskot_prezident_nepodderjivaet_initsiativu_jenishbeka_toktorbaeva/',\n",
              " 'https://24.kg/proisshestvija/266691_zaderjan_tretiy_podozrevaemyiy_vubiystve_proizoshedshem_vpanfilovskom_rayone/',\n",
              " 'https://24.kg/vlast/266690_kitay_ikyirgyizstan_vyistupayut_zauproschenie_protseduryi_vyidachi_voditelskih_viz/',\n",
              " 'https://24.kg/proisshestvija/266675_vskandalno_izvestnoy_shkole_vsuzake_vnov_chp_salyut_popal_ucheniku_vlitso/',\n",
              " 'https://24.kg/proisshestvija/266686_podelu_suprugi_ravshana_djeenbekova_prohodyat_sotrudniki_gpinfosistems/',\n",
              " 'https://24.kg/proisshestvija/266687_mujchina_pyitalsya_iznasilovat_kollegu_iprinujdal_eevstupit_vbrak/',\n",
              " 'https://24.kg/proisshestvija/266680_popodozreniyu_vkorruptsii_zaderjanyi_byivshiy_glava_sela_izemleustroitel_/',\n",
              " 'https://24.kg/vlast/266682_deputat_zayavil_chto_molodyie_spetsialistyi_vjk_nespravlyayutsya_sperevodami/',\n",
              " 'https://24.kg/obschestvo/266468_bolezni_serdtsa_kogda_planyi_posnijeniyu_mogut_ostatsya_mechtami_/',\n",
              " 'https://24.kg/vlast/266677_vrukovodstve_guobdd_kyirgyizstana_proizoshli_kadrovyie_izmeneniya/',\n",
              " 'https://24.kg/proisshestvija/266674_vbishkeke_zaderjan_podozrevaemyiy_vnarkotorgovle_imoshennichestve/',\n",
              " 'https://24.kg/obschestvo/266672_vozle_alamedinskogo_ryinka_hotyat_postroit_mnogourovnevuyu_parkovku_/',\n",
              " 'https://24.kg/obschestvo/266668_vkyirgyizstane_snizilis_tsenyi_namineralnyie_udobreniya/',\n",
              " 'https://24.kg/proisshestvija/266669_vbishkeke_evakuiruyut_Asia_Mall_opyat_soobschenie_obombe/',\n",
              " 'https://24.kg/ekonomika/266660_kurs_dollara_vkommercheskih_bankah_kyirgyizstana_na29maya/',\n",
              " 'https://24.kg/obschestvo/266667_vkyirgyizstane_dostatochno_gsm_dlya_provedeniya_vesennih_polevyih_rabot/',\n",
              " 'https://24.kg/obschestvo/266665_vminselhoze_rasskazali_chto_ivkakih_obyemah_zaseyali_vetom_godu/',\n",
              " 'https://24.kg/obschestvo/266664_trotuaryi_parkovki_ostanovka_chto_hotyat_sdelat_vozle_alamedinskogo_ryinka_/',\n",
              " 'https://24.kg/obschestvo/266449_kyirgyizindustriya_krasivyie_obeschaniya_bolshie_ambitsii_inikakih_rezultatov/',\n",
              " 'https://24.kg/sport/266655_sbornaya_latvii_vpervyie_vistorii_zavoevala_medali_chempionata_mira_pohokkeyu/',\n",
              " 'https://24.kg/vlast/266657_sadyir_japarov_pozdravil_voennoslujaschih_iveteranov_stranyi_sdnem_voorujennyih_sil/',\n",
              " 'https://24.kg/obschestvo/266654_zavtra_vnekotoryih_rayonah_bishkeka_nebudet_holodnoy_vodyi/',\n",
              " 'https://24.kg/vlast/266650_sadyir_japarov_pozdravil_redjepa_erdogana_spobedoy_naprezidentskih_vyiborah/',\n",
              " 'https://24.kg/obschestvo/266649_kyirgyizstanka_uje_god_nahoditsya_vsizo_moskvyi_iprosit_pomoschi_otvlastey/',\n",
              " 'https://24.kg/vlast/266647_vyiboryi_poleninskomu_okrugu_izbiratelnyiy_zalog_vernut_pyateryim_kandidatam/',\n",
              " 'https://24.kg/vlast/266648_vyiboryi_prezidenta_vturtsii_redjep_tayip_erdogan_pobejdaet_vovtorom_ture/',\n",
              " 'https://24.kg/sport/266456_sportivnyiy_kalendar_ovajnyih_sorevnovaniyah_suchastiem_kyirgyizstantsev/',\n",
              " 'https://24.kg/obschestvo/266593_segodnya_vbishkeke_pogoda_meropriyatiya_datyi/',\n",
              " 'https://24.kg/vlast/266646_vyiboryi_poleninskomu_okrugu_bolshinstvo_golosov_nabrala_damira_niyazalieva/',\n",
              " 'https://24.kg/vlast/266645_vyiboryi_poleninskomu_okrugu_golosovanie_zavershilos_yavka_menee_14protsentov/',\n",
              " 'https://24.kg/obschestvo/266569_prognoz_pogodyi_vkyirgyizstane_na29maya_mestami_dojdi/',\n",
              " 'https://24.kg/obschestvo/266578_afisha_bishkeka_nanedelyu_kontsertyi_ispektakli_kodnyu_zaschityi_detey/',\n",
              " 'https://24.kg/vlast/266644_vyiboryi_poleninskomu_okrugu_na1800_progolosovali_108_protsenta_izbirateley/',\n",
              " 'https://24.kg/vlast/266643_vsele_maksat_nagranitse_stadjikistanom_ustanovlen_flag_kyirgyizstana/',\n",
              " 'https://24.kg/obschestvo/266573_29maya_gde_vbishkeke_iregionah_otklyuchat_svet/',\n",
              " 'https://24.kg/sport/266642_futbolnyiy_turnir_muras_pobedila_komanda_den_sooluk/',\n",
              " 'https://24.kg/sport/266641_futbolnyiy_turnir_muras_vfinal_vyishli_dve_komandyi/',\n",
              " 'https://24.kg/agent_024/266417_chudaki_parkovki_naprospekte_jibek_jolu_vbishkeke_stoyanku_ustroili_nagazone/',\n",
              " 'https://24.kg/agent_024/266175_mgnoveniya_jizni_uschelya_turgen-aksu_isaryi-oy/',\n",
              " 'https://24.kg/vlast/266640_vyiboryi_poleninskomu_okrugu_institut_akyiykatchi_provodit_monitoring_golosovaniya/',\n",
              " 'https://24.kg/obschestvo/266604_jit_horosho_poka_nezaboleesh_kyirgyizstanka_ojizni_vgermanii_/',\n",
              " 'https://24.kg/vlast/266639_erdogan_vskyilyichdaroglu_vturtsii_nachalsya_vtoroy_tur_prezidentskih_vyiborov/',\n",
              " 'https://24.kg/proisshestvija/266638_spoddelnyim_pasportom_grajdanina_kyirgyizstana_zaderjan_byivshiy_zammera_murmanska/',\n",
              " 'https://24.kg/vlast/266637_vyiboryi_poleninskomu_okrugu_prezident_ssuprugoy_prinyal_uchastie_vgolosovanii/',\n",
              " 'https://24.kg/obschestvo/266206_kak_usyinovit_rebenka_vkyirgyizstane_otvetyi_nasem_glavnyih_voprosov/',\n",
              " 'https://24.kg/vlast/266636_vyiboryi_poleninskomu_okrugu_militsiya_nachala_proverku_pofaktu_podkupa/',\n",
              " 'https://24.kg/vlast/266635_nadejnaya_ohrana_granits_pozdravlenie_prezidenta_sdnem_pogranichnika/',\n",
              " 'https://24.kg/vlast/266633_rossiya_snoyabrya_uprostit_protseduru_registratsii_trudovyih_migrantov_izkyirgyizstana/',\n",
              " 'https://24.kg/vlast/266634_vyiboryi_poleninskomu_okrugu_prohodyat_bez_sereznyih_narusheniy_tsik/',\n",
              " 'https://24.kg/obschestvo/266490_temperaturnyie_rekordyi_samyim_jarkim_vbishkeke_byilo_28maya_2014_goda/',\n",
              " 'https://24.kg/obschestvo/266570_nedelya-24_zachem_kyirgyizstantsyi_edut_vukrainu_iskandalyi_sbyivshimi_prezidentami/',\n",
              " 'https://24.kg/vlast/266556_vyiboryi_vjogorku_kenesh_poleninskomu_okrugu_nauchastkah_nachalos_golosovanie/',\n",
              " 'https://24.kg/obschestvo/266591_segodnya_vbishkeke_pogoda_meropriyatiya_datyi/',\n",
              " 'https://24.kg/obschestvo/266567_prognoz_pogodyi_vkyirgyizstane_na28maya_vbishkeke_bez_osadkov/',\n",
              " 'https://24.kg/proisshestvija/266632_vdtp_utokmaka_pogibli_vosem_chelovek_vtom_chisle_dvoe_detey/',\n",
              " 'https://24.kg/ekonomika/266226_tsifra_dnya713_tyisyachi_kvadratnyih_metrov_sostavil_yamochnyiy_remont_dorog/',\n",
              " 'https://24.kg/obschestvo/266623_naberegu_issyik-kulya_prohodit_forum_assotsiatsii_neonatologov_kyirgyizstana_/',\n",
              " 'https://24.kg/proisshestvija/266631_nezakonno_prodavali_uchastki_zaderjanyi_chinovniki_alamedinskogo_rayona_/',\n",
              " 'https://24.kg/obschestvo/266621_koreyskoe_agentstvo_peredalo_minzdravu_shest_novyih_avtomobiley_ioborudovanie/',\n",
              " 'https://24.kg/obschestvo/266628_vdubovom_parke_prohodit_turisticheskiy_festival_/',\n",
              " 'https://24.kg/proisshestvija/266607_pevets_alihan_obvinil_rozu_amanovu_vfinansirovanii_Temirov_Live/',\n",
              " 'https://24.kg/sport/266627_boets_busurmankul_abdibait_uulu_nokautom_vyiigral_boy_sbraziltsem/',\n",
              " 'https://24.kg/obschestvo/266613_reydyi_namigrantov_vrf_vposolstve_obratilis_kkyirgyizstantsam_/',\n",
              " 'https://24.kg/proisshestvija/266626_zadva_mesyatsa_gknb_konfiskoval_ukontrabandistov_Hyndai_Porter_ikamaz_/',\n",
              " 'https://24.kg/proisshestvija/266625_naoshskom_ryinke_sgoreli_konteyneryi/',\n",
              " 'https://24.kg/ekonomika/266500_produktovaya_korzina_bishkeka_na27maya_skolko_deneg_semya_tratit_naedu/',\n",
              " 'https://24.kg/obschestvo/266606_meriya_rasshirit_proezjuyu_chast_dorogi_poprospektu_chuy_/']"
            ]
          },
          "metadata": {},
          "execution_count": 71
        }
      ]
    },
    {
      "cell_type": "code",
      "source": [
        "shouldFiltered"
      ],
      "metadata": {
        "colab": {
          "base_uri": "https://localhost:8080/"
        },
        "id": "qR2Ni5_fC7XU",
        "outputId": "3a653af3-9553-4208-d751-b08eb83d891f"
      },
      "execution_count": null,
      "outputs": [
        {
          "output_type": "execute_result",
          "data": {
            "text/plain": [
              "[]"
            ]
          },
          "metadata": {},
          "execution_count": 72
        }
      ]
    },
    {
      "cell_type": "code",
      "source": [
        "articlesWithThemes"
      ],
      "metadata": {
        "colab": {
          "base_uri": "https://localhost:8080/"
        },
        "id": "V2-B_pAWDAd6",
        "outputId": "3cb0e345-2159-41eb-8cf8-bb5f8c7c989f"
      },
      "execution_count": null,
      "outputs": [
        {
          "output_type": "execute_result",
          "data": {
            "text/plain": [
              "[]"
            ]
          },
          "metadata": {},
          "execution_count": 73
        }
      ]
    },
    {
      "cell_type": "code",
      "source": [
        "filteredArticles"
      ],
      "metadata": {
        "id": "pQQUQ7b7DG0S",
        "outputId": "884d9312-ec47-4802-9dbe-810faa32f5ef",
        "colab": {
          "base_uri": "https://localhost:8080/"
        }
      },
      "execution_count": null,
      "outputs": [
        {
          "output_type": "execute_result",
          "data": {
            "text/plain": [
              "[{'url': 'https://24.kg/obschestvo/266664_trotuaryi_parkovki_ostanovka_chto_hotyat_sdelat_vozle_alamedinskogo_ryinka_/',\n",
              "  'author': 'Мария ОРЛОВА',\n",
              "  'title': 'Тротуары, парковки, остановка. Что хотят сделать возле Аламединского рынка ',\n",
              "  'text': 'Глава Свердловского района Бишкека Максатбек Саргазаков совместно с\\xa0представителями отдела дорожного надзора УПСМ ГУВД, МП\\xa0«Бишкекасфальтсервис» и\\xa0департамента транспорта и\\xa0развития дорожно-транспортной инфраструктуры провел обход. Об\\xa0этом сообщила пресс-служба мэрии.По\\xa0ее\\xa0данным, инспекция прошла по\\xa0улице Курманжан Датки от\\xa0проспекта Чуй до\\xa0проспекта Жибек Жолу, а\\xa0также по\\xa0улице Буденного.МП\\xa0«Бишкекасфальтсервис» поручено провести сметные расчеты на\\xa0капитальный ремонт тротуара с\\xa0обеих сторон улицы Курманжан Датки, а\\xa0отделу экономики и\\xa0финансов\\xa0— инвентаризацию жилых помещений и\\xa0хозяйствующих субъектов, препятствующих строительству тротуара.Кроме того, проверили санитарное состояние сквера и\\xa0полив зеленых насаждений на\\xa0пересечении проспекта Чуй и\\xa0улицы Курманжан Датки, надземного пешеходного перехода возле Аламединского рынка. Отделу жилищно-коммунального хозяйства поручено провести генеральную уборку двух надземных пешеходных переходов.Обсудили вопросы изменения схемы движения вокруг ТРК «Аламедин базары», а\\xa0также строительства тротуара по\\xa0проспекту Жибек Жолу и\\xa0ликвидации стихийных парковок.«Ввиду интенсивности движения автотранспортных средств на\\xa0данном участке обсудили вопрос переноса остановочного комплекса, находящегося напротив ТЦ\\xa0«Табылга», за\\xa0улицу Джалиля»,\\xa0— добавили в\\xa0мэрии.'},\n",
              " {'url': 'https://24.kg/obschestvo/266668_vkyirgyizstane_snizilis_tsenyi_namineralnyie_udobreniya/',\n",
              "  'author': 'Юрий КОПЫТИН',\n",
              "  'title': 'В\\xa0Кыргызстане снизились цены на\\xa0минеральные удобрения\\n',\n",
              "  'text': 'В\\xa0Кыргызстане по\\xa0сравнению с\\xa0прошлым годом снизились цены на\\xa0минеральные удобрения. Об\\xa0этом на\\xa0пресс-конференции в\\xa0Бишкеке сообщил заместитель директора департамента химизации, защиты и\\xa0карантина растений при Минсельхозе Жалилбек Тойматов.«Цены снизились на\\xa08-10 сомов за 1\\xa0килограмм аммиачной селитры и\\xa0на\\xa010-12 сомов на\\xa0карбамид. Аммиачная селитра в\\xa0среднем продается по\\xa0цене от\\xa032\\xa0до\\xa046\\xa0сомов за\\xa0килограмм, карбамид от\\xa038\\xa0до\\xa052\\xa0сомов, аммофос от\\xa055\\xa0до\\xa060\\xa0сомов за\\xa0килограмм. В\\xa0зависимости от\\xa0фирмы производителя»,\\xa0— сказал\\xa0он.На\\xa0этот год потребность в\\xa0минеральных удобрениях составляет 286,7 тысячи тонн. Из\\xa0них: азотных\\xa0— 163,5 тысячи тонн, фосфорных\\xa0— 105,8 тысячи тонн и\\xa0калийных\\xa0— 17,3 тысячи тонн. На\\xa025\\xa0мая в\\xa0республику завезено 81,5 тысячи тонн удобрений. Из\\xa0них: азотных\\xa0— 61,7 тысячи тонн, фосфорных 19,3 тысячи тонн и\\xa0калийных 0,58 тысячи тонн.'},\n",
              " {'url': 'https://24.kg/proisshestvija/266669_vbishkeke_evakuiruyut_Asia_Mall_opyat_soobschenie_obombe/',\n",
              "  'author': 'Бактыгуль ОСМОНАЛИЕВА',\n",
              "  'title': 'В\\xa0Бишкеке эвакуируют Asia Mall: опять сообщение о\\xa0бомбе\\n',\n",
              "  'text': 'В торгово-развлекательном центре\\xa0Asia Mall посетителей и сотрудников попросили освободить помещения из-за поступившего звонка о якобы заложенной бомбе.По данным Ленинского районного УВД, на месте работают соответствующие службы, здание оцеплено.\\n \\nНапомним, это не первое телефонное хулиганство неизвестных. 2\\xa0мая из-за сообщения о\\xa0заложенной бомбе в\\xa0Бишкеке были\\xa0эвакуированы\\xa0учащиеся двух школ\\xa0— №\\xa033\\xa0и\\xa0школы-гимназии №\\xa04.27\\xa0апреля после аналогичного письма на\\xa0электронную почту были\\xa0оцеплены\\xa028\\xa0учебных заведений. До\\xa0этого дважды\\xa0были\\xa0сообщения о\\xa0якобы заложенных взрывных устройствах в\\xa0школах, колледжах, вузах и\\xa0торговых центрах.Схожие сообщения поступали в\\xa0учебные заведения и\\xa0торговые центры Бишкека 20\\xa0января и\\xa022\\xa0марта. Организаторов этих атак до\\xa0сих пор не\\xa0нашли. Заместитель председателя ГКНБ Айбек Шаменов\\xa0сообщил, что аккаунты, с\\xa0которых отправляются сообщения, зарегистрированы на\\xa0территориях Украины и\\xa0России.Минобразования\\xa0поручило\\xa0усилить меры безопасности в\\xa0школах, колледжах и\\xa0вузах.'},\n",
              " {'url': 'https://24.kg/proisshestvija/266674_vbishkeke_zaderjan_podozrevaemyiy_vnarkotorgovle_imoshennichestve/',\n",
              "  'author': 'Юрий КОПЫТИН',\n",
              "  'title': 'В\\xa0Бишкеке задержан подозреваемый в\\xa0наркоторговле и\\xa0мошенничестве\\n',\n",
              "  'text': 'В\\xa0Бишкеке задержан подозреваемый в\\xa0наркоторговле и\\xa0мошенничестве. Об\\xa0этом сообщает пресс-служба МВД.«В\\xa0поле зрения оперативников попал 39-летний С.Т. —\\xa0уроженец Баткенской области, подозреваемый в\\xa0организации сбыта наркотиков в\\xa0Бишкеке и\\xa0Чуйской области. При задержании в\\xa0салоне принадлежащего ему автомобиля обнаружен и\\xa0изъят сверток с\\xa0гашишем. Также выяснилось, что проживая в\\xa0столице, подозреваемый промышлял мошенничеством. Совершая ритуальные обряды, он\\xa0обманом и\\xa0запугиванием завладевал чужим имуществом»,\\xa0— говорится в\\xa0сообщении.\\n     Фото пресс-службы МВД. Задержанный \\n\\nЗадержанному предъявлено обвинение. Он\\xa0водворен в\\xa0изолятор временного содержания. Расследование проводит следственная служба МВД. Пострадавших от\\xa0злоумышленника просят обращаться по\\xa0следующим номерам телефонов: 0312266261 и\\xa00703204080.'},\n",
              " {'url': 'https://24.kg/obschestvo/266468_bolezni_serdtsa_kogda_planyi_posnijeniyu_mogut_ostatsya_mechtami_/',\n",
              "  'author': 'Анастасия БЕНГАРД',\n",
              "  'title': 'Болезни сердца: когда планы по\\xa0снижению могут остаться мечтами ',\n",
              "  'text': 'В\\xa0последние годы от\\xa0сердечно-сосудистых заболеваний (ССЗ) умирает около 20\\xa0тысяч кыргызстанцев. Минздрав озаботился профилактикой и\\xa0утвердил амбициозную программу «Экстренная кардиология». В\\xa0течение пяти лет смертность от\\xa0ССЗ хотят снизить на\\xa0четверть. Насколько это реально в\\xa0наших условиях?\\nО чем программа По\\xa0словам директора Национального центра кардиологии и\\xa0терапии (НЦКиТ) Таланта Сооронбаева, документ включает в\\xa0себя несколько стратегий, в\\xa0том числе профилактику, раннюю диагностику и\\xa0высокотехнологичную медицинскую помощь. Успешная реализация, по\\xa0его мнению, позволит спасти жизни тысяч граждан.Подробнее ознакомиться с\\xa0программой не\\xa0удалось\\xa0— в\\xa0Минздраве и\\xa0НЦКиТ отказались ее\\xa0предоставить. Странно, ведь речь идет о\\xa0здоровье населения, а\\xa0не\\xa0о\\xa0чем-то сверхсекретном. На\\xa0вопрос о\\xa0стоимости запланированных мероприятий и\\xa0объеме подтвержденного финансирования тоже не\\xa0ответили. А\\xa0без денег любые планы могут так и\\xa0остаться на\\xa0бумаге.\\nКогда первенство не радует В\\xa0Кыргызстане сердечно-сосудистые заболевания занимают первое место в\\xa0структуре общей смертности, на\\xa0их\\xa0долю приходится больше половины всех случаев ежегодных смертей. Это один из\\xa0самых высоких показателей в\\xa0мире.\\n  Резкий скачок в\\xa02020-м медики связывают с\\xa0пандемией COVID-19.Талант Сооронбаев отметил, что в\\xa0целях профилактики на\\xa0первичном уровне начали внедрять чекап-модуль по\\xa0восьми параметрам для каждой семьи: отказ от\\xa0курения, правильное питание, физическая активность, измерение индекса массы тела, контроль артериального давления, уровня сахара и\\xa0холестерина в\\xa0крови, а\\xa0также здоровый сон.Ради интереса мы\\xa0уточнили в\\xa0одной из\\xa0ГСВ (группа семейных врачей), можно\\xa0ли сдать кровь на\\xa0сахар и\\xa0холестерин. В\\xa0регистратуре отправили в\\xa0частную лабораторию. Хотя по\\xa0программе госгарантий предусмотрены базовые лабораторные исследования. И\\xa0это в\\xa0Аламединском районе, в\\xa010\\xa0минутах от\\xa0столицы. Что уж\\xa0говорить об\\xa0отдаленных регионах республики? Хорошо, если человек может себе позволить обратиться к\\xa0частникам ради ежегодной профилактики. Но\\xa0много\\xa0ли таких? Чаще пациенты обращаются к\\xa0докторам уже с\\xa0серьезными осложнениями.Понятно, что каждый сам несет ответственность за\\xa0свое здоровье. Однако медицинские услуги должны быть доступными, а\\xa0просветительская работа на\\xa0первичном уровне здравоохранения\\xa0— регулярной и\\xa0эффективной.Для экстренной медицинской помощи сердечникам обещают создать в\\xa0Бишкеке современный кластер, где будут делать уникальные операции. В\\xa0планах есть и\\xa0регионы. Но\\xa0когда до\\xa0них дойдет очередь?\\nДостижимы ли цели Главный научный сотрудник НЦКиТ, профессор Акпай Сарыбаев считает заявленные планы нереалистичными.Такого никто никогда не\\xa0добивался за\\xa0пять лет. Если снизим смертность от\\xa0ССЗ хотя\\xa0бы на\\xa010-15 процентов за\\xa0пять лет, то\\xa0это уже будет хорошим достижением.Он\\xa0отметил, что для снижения смертности нужно бороться не\\xa0только с\\xa0последствиями, а\\xa0действовать на\\xa0их\\xa0предупреждение. Это не\\xa0значит, что не\\xa0нужно развивать высокотехнологичную помощь. Но\\xa0ее\\xa0доля в\\xa0структуре снижения смертности достаточно скромная и\\xa0проявится только примерно через 5-10\\xa0лет. Для этого в\\xa0каждом областном центре должны появиться кардиоцентры с\\xa0возможностью инвазивных вмешательств (стентирования), а\\xa0в\\xa0перспективе должен быть один такой центр на\\xa0300 тысяч населения.При этом экстренного больного нужно доставить в\\xa0сосудистый центр в\\xa0первый, так называемый золотой час и\\xa0сделать коронарографию, при закупорке сосуда\\xa0— стентирование. Повезло, если пациент живет в\\xa0Бишкеке, а\\xa0если на\\xa0периферии и\\xa0добираться до\\xa0областного центра нужно несколько часов?В\\xa0соседнем Казахстане, по\\xa0словам Акпая Сарыбаева, в\\xa0каждой районной больнице есть современный препарат, который растворяет тромб при остром инфаркте миокарда (тромболизис). Это позволяет отстрочить хирургическое вмешательство, появляется время довезти пациента до\\xa0сосудистого центра.В\\xa0Кыргызстане тоже каждая райбольница должна быть обеспечена современным тромболитиком, а\\xa0врачи обучены, как его применять. «В\\xa0мою бытность директором НЦКиТ мы\\xa0завезли препарат по\\xa0гуманитарной линии, хватило на\\xa0два года. Сейчас этого тромболитика нет даже в\\xa0нашем центре. Такие препараты дорогие\\xa0— примерно $600-800\\xa0на одного больного. Если проводить государственные закупки централизовано, возможно, стоимость будет снижена в\\xa0полтора-два раза»,\\xa0— добавил Акпай Сарыбаев.В\\xa0России, по\\xa0его данным, за\\xa015\\xa0лет смогли снизить смертность примерно на\\xa035\\xa0процентов. Огромные средства направлены не\\xa0только на\\xa0высокотехнологичные методы, но\\xa0и\\xa0на\\xa0профилактику, бесплатное снабжение лекарствами на\\xa0первичном уровне. Основной упор был сделан на\\xa0борьбу с\\xa0артериальной гипертонией и\\xa0гиперхолестеринемией (патологическое состояние, развивающееся на\\xa0фоне повышенной концентрации общего холестерина в\\xa0плазме крови. —\\xa0Прим.\\xa024.kg).По\\xa0словам профессора, сейчас в\\xa0Кыргызстане необходимо усилить первичный уровень здравоохранения, чтобы семейные врачи имели стимул выявлять пациентов с\\xa0артериальной гипертонией, гиперхолестеринемией и\\xa0сахарным диабетом.\\nУпор на профилактику Главная задача на\\xa0сегодня\\xa0— выявить факторы риска, устранить их\\xa0и\\xa0предупредить развитие сердечного заболевания и\\xa0его осложнений (инсульта, инфаркта, сердечной и\\xa0почечной недостаточности).«В\\xa0СМИ должна идти популяризация здорового образа жизни, чтобы каждый человек регулярно проходил профилактический медосмотр, знал, как ему питаться, отказывался от\\xa0вредных привычек. У\\xa0каждого человека должен быть тонометр для регулярного измерения давления. В\\xa0поликлиниках должна быть команда, медсестра и\\xa0семейный врач, которая определит семьи из\\xa0группы риска, возьмет их\\xa0на\\xa0учет, выдаст каждому памятку о\\xa0ЗОЖ»,\\xa0— подчеркнул Акпай Сарыбаев.Проблема в\\xa0том, что в\\xa0Кыргызстане не\\xa0хватает семейных врачей. Кроме того, должны быть критерии оценки эффективности их\\xa0работы. Это может быть количество выявленных пациентов с\\xa0факторами риска, количество поставленных на\\xa0учет, динамика наблюдения и\\xa0другое. В\\xa0конечном счете за\\xa0пять лет будет видна частота попадания пациента в\\xa0стационар. Это тоже является косвенным результатом работы врача.Основной упор на\\xa0Западе делается именно на\\xa0семейных врачей. Они\\xa0— сердце здравоохранения.В\\xa02018 году семейным врачам, кстати, вводили доплаты за\\xa0выполнение ряда индикаторов, но\\xa0позже отменили.Акпай Сарыбаев считает, что нужно также увеличить перечень лекарств для снижения давления и\\xa0холестерина для бесплатной выдачи пациентам с\\xa0высоким риском развития осложнений\\xa0и, прежде всего, пожилым людям, поскольку их\\xa0пенсии просто не\\xa0хватает на\\xa0необходимые медикаменты.«Кроме того, в\\xa0Кыргызстане практически полностью утеряна разработанная нашими учеными-врачами и\\xa0хорошо функционировавшая во\\xa0время Советского Союза система реабилитации больных, перенесших острый инфаркт миокарда и\\xa0операции на\\xa0сердце. Необходимо срочно возрождать эту систему на\\xa0государственном уровне»,\\xa0— сказал\\xa0он.Проблема и\\xa0в\\xa0том, что многие пациенты начинают следовать рекомендациям врача, а\\xa0потом со\\xa0временем бросают.«Если в\\xa0масштабах всей популяции каждый второй-третий начнет думать о\\xa0своем здоровье и\\xa0предпринимать для этого усилия, то\\xa0будет большой прогресс»,\\xa0— резюмировал\\xa0он.'},\n",
              " {'url': 'https://24.kg/proisshestvija/266686_podelu_suprugi_ravshana_djeenbekova_prohodyat_sotrudniki_gpinfosistems/',\n",
              "  'author': 'Аида ДЖУМАШОВА',\n",
              "  'title': 'По\\xa0делу супруги Равшана Джеенбекова проходят сотрудники ГП\\xa0«Инфосистемс»\\n',\n",
              "  'text': 'По уголовному делу против супруги экс-депутата парламента Равшана Джеенбекова Салкын Алимбаевой проходят сотрудники ГП\\xa0«Инфосистемс». Об\\xa0этом 24.kg сообщили собственные источники.Уточняется, что в\\xa0отношении пятерых работников госпредприятия вынесена мера пресечения в\\xa0виде заключения под стражу. Они будут находиться в\\xa0СИЗО ГКНБ до\\xa024\\xa0июля.Адвокат Разак Ашимбаев подтвердил 24.kg, что, кроме Салкын Алимбаевой, в\\xa0деле фигурируют и\\xa0госслужащие. Однако юристу не\\xa0понятна суть обвинения.«Моя подзащитная домохозяйка. Ей\\xa0необоснованно предъявили обвинение. Мы\\xa0готовим жалобу в\\xa0Бишкекский городской суд на\\xa0меру пресечения»,\\xa0— сказал он.Напомним, супругу экс-депутата парламента Равшана Джеенбекова Салкын Алимбаеву задержали накануне. Она подозревается в\\xa0коррупции.'},\n",
              " {'url': 'https://24.kg/vlast/266692_vkyirgyizstane_predlagayut_otmenit_litsenzirovanie_detsadov_iattestatsiyu_pedagogov/',\n",
              "  'author': 'Гульмира МАКАНБАЙ КЫЗЫ',\n",
              "  'title': 'В\\xa0Кыргызстане предлагают отменить лицензирование детсадов и\\xa0аттестацию педагогов\\n',\n",
              "  'text': 'Депутат Жогорку Кенеша Жанар Акаев предлагает отменить лицензирование детских садов и\\xa0аттестацию педагогов в\\xa0школах. Об\\xa0этом он\\xa0сообщил на\\xa0заседании парламентского комитета по\\xa0социальной политике.Нардеп в\\xa0первом чтении презентовал законопроект «Об\\xa0образовании». Он отметил, что, по\\xa0данным Нацстаткома, в Кыргызстане только 24\\xa0процента детей до\\xa0шести лет посещают детский сад.«Если предприниматель хочет открыть детский сад, он должен представить справки из\\xa014\\xa0органов! В\\xa0Казахстане и\\xa0Узбекистане отменили лицензирование вновь открывшихся дошкольных учреждений. В\\xa0этом законопроекте предусматривается такая норма. Предпринимателю, открывающему детский сад, нужно лишь уведомить пожарную и\\xa0санитарную службы»,\\xa0— сказал Жанар Акаев.Он также коснулся школьных проверок и\\xa0аттестации учителей. «Аттестация не\\xa0меняет качество образования, но доставляет много хлопот. Мы\\xa0предлагаем прекратить аттестацию учителей, а\\xa0создать департамент по\\xa0развитию качества, который будет контролировать педагогов»,\\xa0— отметил депутат.Он\\xa0заметил, что директора школ и\\xa0педагоги поддерживают инициативу народных избранников.Отметим, в\\xa0Бишкеке в\\xa0двух пилотных районах\\xa0— Ленинском и\\xa0Первомайском\\xa0—\\xa0реализуется проект, позволяющий открывать детские сады на\\xa0дому.'},\n",
              " {'url': 'https://24.kg/obschestvo/266700_ukaz_prezidenta_vignor_roditeli_uchenikov_shkolyi_38bishkeka_jaluyutsya_napoboryi/',\n",
              "  'author': 'Мария ОРЛОВА',\n",
              "  'title': 'Указ президента в\\xa0игнор. Родители учеников школы №\\xa038\\xa0Бишкека жалуются на\\xa0поборы\\n',\n",
              "  'text': 'Из-за неоплаты сборов выпускникам школы №\\xa038\\xa0грозят не\\xa0допустить их\\xa0до\\xa0экзамена. Об\\xa0этом 24.kg сообщила правозащитница Анара Дауталиева.Она отметила, что направила письмо на\\xa0имя министра образования Каныбека Иманалиева и\\xa0мэра Бишкека Эмилбека Абдыкадырова с\\xa0просьбой принять меры и\\xa0рассмотреть вопрос соответствия занимаемым должностям ряда чиновников городского департамента образования, а\\xa0также руководства учебного заведения.По словам\\xa0Анары Дауталиевой, 19\\xa0мая к\\xa0ней обратились родители учеников с\\xa0жалобами на\\xa0денежные сборы на\\xa0Последний звонок, выпускные экзамены и\\xa0давление на\\xa0детей.Первоначально с\\xa0каждого ребенка собирали по\\xa08\\xa0тысяч 200\\xa0сомов, после недовольства большинства родителей сумму снизили сначала до\\xa06\\xa0тысяч 700\\xa0сомов, затем до\\xa04\\xa0тысяч 200\\xa0сомов.Правозащитница с\\xa0родителями обратилась в\\xa0мэрию, где 25\\xa0мая создана комиссия по\\xa0проверке жалобы на\\xa0школу, морально-психологическое давление администрации, завучей, учителей на\\xa0школьников и\\xa0родителей. «Администрация школы дошла до\\xa0шантажа, говоря, что некоторые ученики не\\xa0будут допущены к\\xa0госэкзаменам»,\\xa0— добавила она.В\\xa0ходе проверки выявили и\\xa0кадровые нарушения. Например, классным руководителем в\\xa011\\xa0«Б» де-факто является завуч и\\xa0учитель английского языка, хотя де-юре числится другой преподаватель.\\xa0Анара Дауталиева считает, что правоохранительные органы должны разобраться в\\xa0этом вопросе.И добавила: родители просят присутствия независимых наблюдателей на\\xa0госэкзаменах в\\xa011-х классах, так как боятся, что такая ситуация может повлиять на\\xa0оценки детей.Добавим, что президент Садыр Жапаров подписал Указ о\\xa0мерах по\\xa0обеспечению государственных гарантий реализации права детей на\\xa0получение бесплатного школьного образования\\xa0— в\\xa0государственных общеобразовательных организациях (1-11-й классы) запрещены незаконный сбор денежных средств и создание общественных фондов при них.'}]"
            ]
          },
          "metadata": {},
          "execution_count": 74
        }
      ]
    }
  ]
}